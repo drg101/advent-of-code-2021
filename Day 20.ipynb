{
 "cells": [
  {
   "cell_type": "code",
   "execution_count": 96,
   "id": "75086009",
   "metadata": {},
   "outputs": [],
   "source": [
    "from collections import defaultdict \n",
    "from copy import deepcopy\n",
    "import numpy as np\n",
    "import matplotlib.pyplot as plt\n",
    "ain = open(\"input.txt\", \"r\").read()\n",
    "# ain = \"\"\"..#.#..#####.#.#.#.###.##.....###.##.#..###.####..#####..#....#..#..##..###..######.###...####..#..#####..##..#.#####...##.#.#..#.##..#.#......#.###.######.###.####...#.##.##..#..#..#####.....#.#....###..#.##......#.....#..#..#..##..#...##.######.####.####.#.#...#.......#..#.#.#...####.##.#......#..#...##.#.##..#...##.#.##..###.#......#.#.......#.#.#.####.###.##...#.....####.#..#..#.##.#....##..#.####....##...##..#...#......#.#.......#.......##..####..#...#.#.#...##..#.#..###..#####........#..####......#..#\n",
    "\n",
    "# #..#.\n",
    "# #....\n",
    "# ##..#\n",
    "# ..#..\n",
    "# ..###\"\"\"\n",
    "l = ain.split('\\n\\n')\n",
    "# ain = 'target area: x=169..206, y=-108..-68'\n",
    "# ain = 'target area: x=20..30, y=-10..-5'\n",
    "# targete = ain.split(': ')[1].split(', ')\n",
    "# x = list(map(int,targete[0].split('=')[1].split('..')))\n",
    "# y = list(map(int,targete[1].split('=')[1].split('..')))\n",
    "# x,y"
   ]
  },
  {
   "cell_type": "code",
   "execution_count": 97,
   "id": "da0ea1d6",
   "metadata": {},
   "outputs": [],
   "source": [
    "algo = l[0]\n",
    "image = list(map(list,l[1].split('\\n')))"
   ]
  },
  {
   "cell_type": "code",
   "execution_count": 103,
   "id": "b28bccdc",
   "metadata": {},
   "outputs": [],
   "source": [
    "def enhance(inImage, iteration=0):\n",
    "#     print('\\n')\n",
    "    inImagee = deepcopy(inImage)\n",
    "    filler = '.' if algo[0] == '.' else algo[0] if iteration % 2 == 1 else algo[511]\n",
    "    if iteration == 0:\n",
    "        filler = '.'\n",
    "        \n",
    "    for r in inImagee:\n",
    "        r.insert(0, filler)\n",
    "        r.append(filler)\n",
    "\n",
    "    inImagee.insert(0, list(filler * len(inImagee[0])))\n",
    "    inImagee.append(list(filler * len(inImagee[0])))\n",
    "#     printim(inImagee)\n",
    "#     print(inImagee)\n",
    "    outImage = list(map(list, deepcopy(inImagee)))\n",
    "    for r in range(len(inImagee)):\n",
    "        for c in range(len(inImagee[r])):\n",
    "            kernel = ''\n",
    "            for tr in [-1, 0, 1]:\n",
    "                for tc in [-1, 0, 1]:\n",
    "                    if r+tr < 0 or r+tr>= len(inImagee) or c+tc < 0 or c+tc>= len(inImagee[r]):\n",
    "                        kernel += filler\n",
    "                    else:\n",
    "                        kernel += inImagee[r + tr][c + tc]\n",
    "#             print('\\n')\n",
    "#             print(r, c)\n",
    "#             print(kernel)\n",
    "            binkernel = kernel.replace('.', '0')\n",
    "            binkernel = binkernel.replace('#', '1')\n",
    "#             print(binkernel, filler)\n",
    "            kernelvalue = int(binkernel, 2)\n",
    "#             print(kernelvalue, algo[kernelvalue])\n",
    "            outImage[r][c] = algo[kernelvalue]\n",
    "#     printim(inImagee)\n",
    "#     print('\\n')\n",
    "#     printim(outImage)\n",
    "    return outImage"
   ]
  },
  {
   "cell_type": "code",
   "execution_count": 104,
   "id": "fbf014ae",
   "metadata": {},
   "outputs": [],
   "source": [
    "image2 = enhance(image)\n",
    "image2 = enhance(image2, 1)\n",
    "# print('\\n')\n",
    "# printim(image2)"
   ]
  },
  {
   "cell_type": "code",
   "execution_count": 101,
   "id": "51e55e3b",
   "metadata": {},
   "outputs": [],
   "source": [
    "def count(image):\n",
    "    lit = 0\n",
    "    for r in image:\n",
    "        for c in r:\n",
    "            if c == '#':\n",
    "                lit+=1\n",
    "    return lit"
   ]
  },
  {
   "cell_type": "code",
   "execution_count": 102,
   "id": "9db512ac",
   "metadata": {},
   "outputs": [
    {
     "data": {
      "text/plain": [
       "5479"
      ]
     },
     "execution_count": 102,
     "metadata": {},
     "output_type": "execute_result"
    }
   ],
   "source": [
    "count(image2)"
   ]
  },
  {
   "cell_type": "code",
   "execution_count": 8,
   "id": "90cd5ea2",
   "metadata": {},
   "outputs": [],
   "source": [
    "def printim(im):\n",
    "    print('\\n'.join(list(map(lambda x: ''.join(x),im))))"
   ]
  },
  {
   "cell_type": "code",
   "execution_count": 152,
   "id": "092ed031",
   "metadata": {},
   "outputs": [
    {
     "data": {
      "text/plain": [
       "305"
      ]
     },
     "execution_count": 152,
     "metadata": {},
     "output_type": "execute_result"
    }
   ],
   "source": [
    "int('100110001',2)"
   ]
  },
  {
   "cell_type": "code",
   "execution_count": 153,
   "id": "7e013749",
   "metadata": {},
   "outputs": [
    {
     "data": {
      "text/plain": [
       "'.'"
      ]
     },
     "execution_count": 153,
     "metadata": {},
     "output_type": "execute_result"
    }
   ],
   "source": [
    "\"\"\"..#.#..#####.#.#.#.###.##.....###.##.#..###.####..#####..#....#..#..##..##\n",
    "#..######.###...####..#..#####..##..#.#####...##.#.#..#.##..#.#......#.###\n",
    ".######.###.####...#.##.##..#..#..#####.....#.#....###..#.##......#.....#.\n",
    ".#..#..##..#...##.######.####.####.#.#...#.......#..#.#.#...####.##.#.....\n",
    ".#..#...##.#.##..#...##.#.##..###.#......#.#.......#.#.#.####.###.##...#..\n",
    "...####.#..#..#.##.#....##..#.####....##...##..#...#......#.#.......#.....\n",
    "..##..####..#...#.#.#...##..#.#..###..#####........#..####......#..#\"\"\"[305]"
   ]
  },
  {
   "cell_type": "code",
   "execution_count": null,
   "id": "f2f31509",
   "metadata": {},
   "outputs": [],
   "source": []
  }
 ],
 "metadata": {
  "kernelspec": {
   "display_name": "Python 3",
   "language": "python",
   "name": "python3"
  },
  "language_info": {
   "codemirror_mode": {
    "name": "ipython",
    "version": 3
   },
   "file_extension": ".py",
   "mimetype": "text/x-python",
   "name": "python",
   "nbconvert_exporter": "python",
   "pygments_lexer": "ipython3",
   "version": "3.7.3"
  }
 },
 "nbformat": 4,
 "nbformat_minor": 5
}
