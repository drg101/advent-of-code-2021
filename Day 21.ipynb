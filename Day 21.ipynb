{
 "cells": [
  {
   "cell_type": "code",
   "execution_count": 16,
   "id": "827adec4",
   "metadata": {},
   "outputs": [],
   "source": [
    "from collections import defaultdict , Counter\n",
    "from copy import deepcopy\n",
    "import numpy as np\n",
    "import matplotlib.pyplot as plt\n",
    "# ain = open(\"input.txt\", \"r\").read()\n",
    "# ain = \"\"\"\"\"\""
   ]
  },
  {
   "cell_type": "code",
   "execution_count": 28,
   "id": "3094d468",
   "metadata": {},
   "outputs": [
    {
     "name": "stdout",
     "output_type": "stream",
     "text": [
      "49\n",
      "2401\n",
      "12154\n",
      "8188\n",
      "4340\n",
      "1960\n",
      "550\n",
      "70\n",
      "1\n",
      "0\n"
     ]
    },
    {
     "data": {
      "text/plain": [
       "(7405858026711774, 135620348907779)"
      ]
     },
     "execution_count": 28,
     "metadata": {},
     "output_type": "execute_result"
    }
   ],
   "source": [
    "p1s = 10 - 1\n",
    "p2s = 7 - 1\n",
    "\n",
    "universes = [(p1s, p2s,0,0,1)]\n",
    "\n",
    "def checkwin():\n",
    "    for u in universes:\n",
    "#         print(u[2])\n",
    "        if u[2] >= 21 or u[3] >= 21:\n",
    "            return True\n",
    "    return False\n",
    "\n",
    "p1wins = 0\n",
    "p2wins = 0\n",
    "rolls = [x+y+z for x in [1,2,3] for y in [1,2,3] for z in [1,2,3]]\n",
    "rolls = Counter(rolls)\n",
    "\n",
    "while len(universes):\n",
    "    newuniverses = []\n",
    "    uniqueUniverses = {\n",
    "        \n",
    "    }\n",
    "    for u in universes:\n",
    "        for rp1 in rolls.keys():\n",
    "            for rp2 in rolls.keys():\n",
    "                np1 = (u[0] + rp1) % 10\n",
    "                np2 = (u[1] + rp2) % 10\n",
    "                nUniverses = u[4] * (rolls[rp1] * rolls[rp2])\n",
    "                np1score = u[2] + np1 + 1\n",
    "                np2score = u[3] + np2 + 1\n",
    "\n",
    "                if np1score >= 21:\n",
    "                    p1wins += nUniverses\n",
    "                elif np2score >= 21:\n",
    "                    p2wins += nUniverses\n",
    "                else:\n",
    "                    universeId = f\"{np1}{np2}{np1score}{np2score}\"\n",
    "                    if not universeId in uniqueUniverses:\n",
    "                        uniqueUniverses[universeId] = (np1, np2, np1score, np2score, nUniverses)\n",
    "                    else:\n",
    "                        uniqueUniverses[universeId] = (np1, np2, np1score, np2score, nUniverses + uniqueUniverses[universeId][4])\n",
    "    universes = uniqueUniverses.values()\n",
    "    print(len(universes))\n",
    "#     universes = []\n",
    "    \n",
    "    \n",
    "    \n",
    "p1wins, p2wins  "
   ]
  },
  {
   "cell_type": "code",
   "execution_count": 9,
   "id": "5f4c798f",
   "metadata": {},
   "outputs": [
    {
     "data": {
      "text/plain": [
       "Counter({3: 1, 4: 3, 5: 6, 6: 7, 7: 6, 8: 3, 9: 1})"
      ]
     },
     "execution_count": 9,
     "metadata": {},
     "output_type": "execute_result"
    }
   ],
   "source": [
    "rolls"
   ]
  },
  {
   "cell_type": "code",
   "execution_count": 24,
   "id": "c5800294",
   "metadata": {},
   "outputs": [
    {
     "data": {
      "text/plain": [
       "27.0"
      ]
     },
     "execution_count": 24,
     "metadata": {},
     "output_type": "execute_result"
    }
   ],
   "source": [
    "11997614504960505 / 444356092776315"
   ]
  },
  {
   "cell_type": "code",
   "execution_count": 25,
   "id": "62d10247",
   "metadata": {},
   "outputs": [
    {
     "data": {
      "text/plain": [
       "1.0"
      ]
     },
     "execution_count": 25,
     "metadata": {},
     "output_type": "execute_result"
    }
   ],
   "source": [
    "341960390180808 / 341960390180808"
   ]
  },
  {
   "cell_type": "code",
   "execution_count": 29,
   "id": "7cd7c9a0",
   "metadata": {},
   "outputs": [
    {
     "data": {
      "text/plain": [
       "274291038026362.0"
      ]
     },
     "execution_count": 29,
     "metadata": {},
     "output_type": "execute_result"
    }
   ],
   "source": [
    "7405858026711774 / 27"
   ]
  },
  {
   "cell_type": "code",
   "execution_count": null,
   "id": "d3ff10a7",
   "metadata": {},
   "outputs": [],
   "source": []
  }
 ],
 "metadata": {
  "kernelspec": {
   "display_name": "Python 3",
   "language": "python",
   "name": "python3"
  },
  "language_info": {
   "codemirror_mode": {
    "name": "ipython",
    "version": 3
   },
   "file_extension": ".py",
   "mimetype": "text/x-python",
   "name": "python",
   "nbconvert_exporter": "python",
   "pygments_lexer": "ipython3",
   "version": "3.7.3"
  }
 },
 "nbformat": 4,
 "nbformat_minor": 5
}
