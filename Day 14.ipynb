{
 "cells": [
  {
   "cell_type": "code",
   "execution_count": 82,
   "metadata": {},
   "outputs": [],
   "source": [
    "from copy import deepcopy\n",
    "import numpy as np\n",
    "import matplotlib.pyplot as plt\n",
    "ain = open(\"input.txt\", \"r\").read()\n",
    "\n",
    "ain = \"\"\"NNCB\n",
    "\n",
    "CH -> B\n",
    "HH -> N\n",
    "CB -> H\n",
    "NH -> C\n",
    "HB -> C\n",
    "HC -> B\n",
    "HN -> C\n",
    "NN -> C\n",
    "BH -> H\n",
    "NC -> B\n",
    "NB -> B\n",
    "BN -> B\n",
    "BB -> N\n",
    "BC -> B\n",
    "CC -> N\n",
    "CN -> C\"\"\"\n",
    "\n",
    "l = ain.split('\\n\\n')\n",
    "\n",
    "# l = [i.split('-') for i in l]\n",
    "#l = ain.split(',')\n",
    "#l = [int(j) for j in l]\n",
    "\n",
    "# m = []\n",
    "# for line in l:\n",
    "#     m.append(list(map(int, list(line))))\n",
    "\n",
    "# p = print\n",
    "\n",
    "poly = l[0]\n",
    "\n",
    "def insert (source_str, insert_str, pos):\n",
    "    return source_str[:pos]+insert_str+source_str[pos:]"
   ]
  },
  {
   "cell_type": "code",
   "execution_count": 147,
   "metadata": {},
   "outputs": [
    {
     "name": "stdout",
     "output_type": "stream",
     "text": [
      "[['CH', 'B', 1], ['HH', 'N', 0], ['CB', 'H', 0], ['NH', 'C', 0], ['HB', 'C', 1], ['HC', 'B', 0], ['HN', 'C', 0], ['NN', 'C', 0], ['BH', 'H', 0], ['NC', 'B', 1], ['NB', 'B', 1], ['BN', 'B', 0], ['BB', 'N', 0], ['BC', 'B', 1], ['CC', 'N', 0], ['CN', 'C', 1]]\n",
      "{'N': 2, 'C': 2, 'H': 1, 'B': 2}\n",
      "[['CH', 'B', 0], ['HH', 'N', 0], ['CB', 'H', 2], ['NH', 'C', 0], ['HB', 'C', 0], ['HC', 'B', 1], ['HN', 'C', 0], ['NN', 'C', 0], ['BH', 'H', 1], ['NC', 'B', 0], ['NB', 'B', 1], ['BN', 'B', 0], ['BB', 'N', 2], ['BC', 'B', 1], ['CC', 'N', 1], ['CN', 'C', 1]]\n",
      "[['CH', 'B', 2], ['HH', 'N', 1], ['CB', 'H', 0], ['NH', 'C', 0], ['HB', 'C', 3], ['HC', 'B', 0], ['HN', 'C', 0], ['NN', 'C', 0], ['BH', 'H', 1], ['NC', 'B', 1], ['NB', 'B', 3], ['BN', 'B', 2], ['BB', 'N', 1], ['BC', 'B', 1], ['CC', 'N', 1], ['CN', 'C', 1]]\n",
      "[['CH', 'B', 2], ['HH', 'N', 1], ['CB', 'H', 0], ['NH', 'C', 0], ['HB', 'C', 3], ['HC', 'B', 0], ['HN', 'C', 0], ['NN', 'C', 0], ['BH', 'H', 1], ['NC', 'B', 1], ['NB', 'B', 3], ['BN', 'B', 2], ['BB', 'N', 1], ['BC', 'B', 1], ['CC', 'N', 1], ['CN', 'C', 1]]\n"
     ]
    },
    {
     "data": {
      "text/plain": [
       "{'N': 5, 'C': 5, 'H': 4, 'B': 9}"
      ]
     },
     "execution_count": 147,
     "metadata": {},
     "output_type": "execute_result"
    }
   ],
   "source": [
    "rules = l[1].split('\\n')\n",
    "rules = [[r.split(' -> ')[0], r.split(' -> ')[1], 0] for r in rules]\n",
    "\n",
    "occ = {\n",
    "    'N': 0,\n",
    "    'C': 0,\n",
    "    \"H\": 0,\n",
    "    \"B\": 0\n",
    "}\n",
    "\n",
    "for c in poly:\n",
    "    occ[c] += 1\n",
    "\n",
    "for i in range(len(poly) - 1):\n",
    "    pair = poly[i] + poly[i+1]\n",
    "    for rule in rules:\n",
    "        if pair == rule[0]:\n",
    "            newr = rule[1]\n",
    "            newRule1 = rule[0][0] + newr\n",
    "            newRule2 = newr + rule[0][1]\n",
    "            occ[newr] +=1 \n",
    "            for rule1 in rules:\n",
    "                if rule1[0] == newRule1:\n",
    "                    rule1[2] += 1\n",
    "                elif rule1[0] == newRule2: \n",
    "                    rule1[2] +=1 \n",
    "\n",
    "print(rules)\n",
    "print(occ)\n",
    "\n",
    "for loop in range(2):\n",
    "    deeprules = deepcopy(rules)\n",
    "    for i in range(len(rules)):\n",
    "        rule = rules[i]\n",
    "        if rule[2]:\n",
    "            newRule1 = rule[0][0] + rule[1]\n",
    "            newRule2 = rule[1] + rule[0][1]\n",
    "            added = False\n",
    "            # occ[rule[1]] += rule[2]\n",
    "            # print(f'{rule[0]} adds to {rule[0][1]}')\n",
    "            toAdd = rule[2]\n",
    "            deeprules[i][2] = 0\n",
    "            for rule1 in deeprules:\n",
    "                if rule1[0] == newRule1:\n",
    "                    if not added:\n",
    "                        added = True\n",
    "                        occ[rule[1]] += toAdd\n",
    "                    rule1[2] += toAdd\n",
    "                if rule1[0] == newRule2: \n",
    "                    if not added:\n",
    "                        added = True\n",
    "                        occ[rule[1]] += toAdd\n",
    "                    rule1[2] += toAdd\n",
    "    rules= deeprules\n",
    "    print(rules)\n",
    "\n",
    "print(rules)\n",
    "            \n",
    "occ\n"
   ]
  },
  {
   "cell_type": "code",
   "execution_count": 148,
   "metadata": {},
   "outputs": [
    {
     "data": {
      "text/plain": [
       "{'N': 5, 'C': 5, 'H': 4, 'B': 11}"
      ]
     },
     "execution_count": 148,
     "metadata": {},
     "output_type": "execute_result"
    }
   ],
   "source": [
    "p = \"NBBBCNCCNBBNBNBBCHBHHBCHB\"\n",
    "occ = {\n",
    "    'N': 0,\n",
    "    'C': 0,\n",
    "    \"H\": 0,\n",
    "    \"B\": 0\n",
    "}\n",
    "\n",
    "for c in p:\n",
    "    occ[c] += 1\n",
    "occ"
   ]
  },
  {
   "cell_type": "code",
   "execution_count": null,
   "metadata": {},
   "outputs": [],
   "source": []
  }
 ],
 "metadata": {
  "interpreter": {
   "hash": "916dbcbb3f70747c44a77c7bcd40155683ae19c65e1c03b4aa3499c5328201f1"
  },
  "kernelspec": {
   "display_name": "Python 3.8.10 64-bit",
   "language": "python",
   "name": "python3"
  },
  "language_info": {
   "codemirror_mode": {
    "name": "ipython",
    "version": 3
   },
   "file_extension": ".py",
   "mimetype": "text/x-python",
   "name": "python",
   "nbconvert_exporter": "python",
   "pygments_lexer": "ipython3",
   "version": "3.8.10"
  },
  "orig_nbformat": 4
 },
 "nbformat": 4,
 "nbformat_minor": 2
}
