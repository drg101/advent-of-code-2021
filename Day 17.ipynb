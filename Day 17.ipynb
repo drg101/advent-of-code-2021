{
 "cells": [
  {
   "cell_type": "code",
   "execution_count": 46,
   "id": "1bc90d90",
   "metadata": {},
   "outputs": [
    {
     "data": {
      "text/plain": [
       "([20, 30], [-10, -5])"
      ]
     },
     "execution_count": 46,
     "metadata": {},
     "output_type": "execute_result"
    }
   ],
   "source": [
    "from collections import defaultdict \n",
    "from copy import deepcopy\n",
    "import numpy as np\n",
    "import matplotlib.pyplot as plt\n",
    "# ain = open(\"input.txt\", \"r\").read()\n",
    "# ain = 'target area: x=169..206, y=-108..-68'\n",
    "ain = 'target area: x=20..30, y=-10..-5'\n",
    "targete = ain.split(': ')[1].split(', ')\n",
    "x = list(map(int,targete[0].split('=')[1].split('..')))\n",
    "y = list(map(int,targete[1].split('=')[1].split('..')))\n",
    "x,y"
   ]
  },
  {
   "cell_type": "code",
   "execution_count": 47,
   "id": "e895c33f",
   "metadata": {},
   "outputs": [
    {
     "name": "stdout",
     "output_type": "stream",
     "text": [
      "trying 6\n",
      "trying 7\n",
      "21\n"
     ]
    }
   ],
   "source": [
    "def simulate(xVel, yVel):\n",
    "    killed = False\n",
    "    pos = (0,0)\n",
    "    distanceToX = min([abs(pos[0] - x[0]), abs(pos[0] - x[1])])\n",
    "    distanceToY = min([abs(pos[1] - y[0]), abs(pos[0] - y[1])])\n",
    "    step = 0\n",
    "    previousVelY = 0\n",
    "    while not killed:\n",
    "        pos = (pos[0] + xVel, pos[1] + yVel)\n",
    "#         print(pos)\n",
    "        step+= 1\n",
    "        if x[0] <= pos[0] <= x[1] and y[0] <= pos[1] <= y[1]: \n",
    "            return step\n",
    "        \n",
    "        if xVel > 0:\n",
    "            xVel -= 1\n",
    "        if xVel < 0:\n",
    "            xVel += 1\n",
    "        yVel -= 1\n",
    "        \n",
    "        newDistanceToX = min([abs(pos[0] - x[0]), abs(pos[0] - x[1])])\n",
    "        newDistanceToY = min([abs(pos[1] - y[0]), abs(pos[1] - y[1])])\n",
    "        if x[0] <= pos[0] <= x[1]:\n",
    "            newDistanceToX = 0\n",
    "        if y[0] <= pos[1] <= y[1]:\n",
    "            newDistanceToY = 0\n",
    "#         print(newDistanceToY, distanceToY)\n",
    "        if distanceToY < newDistanceToY and distanceToX <= newDistanceToX and yVel < 0:\n",
    "            return -1\n",
    "        distanceToX = newDistanceToX\n",
    "        distanceToY = newDistanceToY\n",
    "\n",
    "\n",
    "works = []\n",
    "for px in range(0,207):\n",
    "    maxd = px*(px+1)/2\n",
    "    if x[0] <= maxd <= x[1]:\n",
    "        print(f\"trying {px}\")\n",
    "        for py in range(-108,108):\n",
    "            if simulate(px,py) != -1:\n",
    "                works.append((px,py))\n",
    "                \n",
    "            \n",
    "print(len(works))\n",
    "        \n"
   ]
  },
  {
   "cell_type": "code",
   "execution_count": null,
   "id": "4fccce11",
   "metadata": {},
   "outputs": [],
   "source": []
  }
 ],
 "metadata": {
  "kernelspec": {
   "display_name": "Python 3",
   "language": "python",
   "name": "python3"
  },
  "language_info": {
   "codemirror_mode": {
    "name": "ipython",
    "version": 3
   },
   "file_extension": ".py",
   "mimetype": "text/x-python",
   "name": "python",
   "nbconvert_exporter": "python",
   "pygments_lexer": "ipython3",
   "version": "3.7.3"
  }
 },
 "nbformat": 4,
 "nbformat_minor": 5
}
