{
 "cells": [
  {
   "cell_type": "code",
   "execution_count": 24,
   "metadata": {},
   "outputs": [],
   "source": [
    "ain = open(\"input.txt\", \"r\").read()\n",
    "l = ain.split('\\n')\n",
    "\n",
    "#l = [int(j) for j in l]\n",
    "\n",
    "m = []\n",
    "for line in l:\n",
    "    m.append(list(map(int, list(line))))\n",
    "\n",
    "# p = print"
   ]
  },
  {
   "cell_type": "code",
   "execution_count": 6,
   "metadata": {},
   "outputs": [],
   "source": [
    "i = \"\"\"\"\"\"\n",
    "l = i.split('\\n')"
   ]
  },
  {
   "cell_type": "code",
   "execution_count": 27,
   "metadata": {},
   "outputs": [
    {
     "data": {
      "text/plain": [
       "588"
      ]
     },
     "execution_count": 27,
     "metadata": {},
     "output_type": "execute_result"
    }
   ],
   "source": [
    "risk = 0\n",
    "p= m\n",
    "import copy\n",
    "dp = copy.deepcopy(p)\n",
    "basins = []\n",
    "\n",
    "for r in range(len(p)):\n",
    "    for c in range(len(p[r])):\n",
    "        po = p[r][c] \n",
    "        nc = c - 1\n",
    "        if nc != -1:\n",
    "            if p[r][nc] <= po:\n",
    "                continue\n",
    "        nc = c + 1\n",
    "        if nc < len(p[r]):\n",
    "            if p[r][nc] <= po:\n",
    "                continue\n",
    "        nr = r - 1\n",
    "        if nr != -1:\n",
    "            if p[nr][c] <= po:\n",
    "                continue\n",
    "        nr = r + 1\n",
    "        if nr < len(p):\n",
    "            # print(r, nr)\n",
    "            if p[nr][c] <= po:\n",
    "                continue\n",
    "        \n",
    "        risk += po + 1\n",
    "risk"
   ]
  },
  {
   "cell_type": "code",
   "execution_count": null,
   "metadata": {},
   "outputs": [],
   "source": []
  }
 ],
 "metadata": {
  "interpreter": {
   "hash": "916dbcbb3f70747c44a77c7bcd40155683ae19c65e1c03b4aa3499c5328201f1"
  },
  "kernelspec": {
   "display_name": "Python 3.8.10 64-bit",
   "language": "python",
   "name": "python3"
  },
  "language_info": {
   "codemirror_mode": {
    "name": "ipython",
    "version": 3
   },
   "file_extension": ".py",
   "mimetype": "text/x-python",
   "name": "python",
   "nbconvert_exporter": "python",
   "pygments_lexer": "ipython3",
   "version": "3.8.10"
  },
  "orig_nbformat": 4
 },
 "nbformat": 4,
 "nbformat_minor": 2
}
